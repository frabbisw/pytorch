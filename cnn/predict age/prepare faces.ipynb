{
 "cells": [
  {
   "cell_type": "markdown",
   "metadata": {},
   "source": [
    "dataset can be found here: https://drive.google.com/drive/folders/0BxYys69jI14kU0I1YUQyY1ZDRUE"
   ]
  },
  {
   "cell_type": "code",
   "execution_count": 1,
   "metadata": {
    "scrolled": true
   },
   "outputs": [],
   "source": [
    "import PIL\n",
    "from PIL import Image\n",
    "import glob\n",
    "import os\n",
    "from tqdm import tqdm as tq\n",
    "import re"
   ]
  },
  {
   "cell_type": "code",
   "execution_count": 8,
   "metadata": {},
   "outputs": [
    {
     "name": "stderr",
     "output_type": "stream",
     "text": [
      "100%|██████████| 9778/9778 [01:48<00:00, 89.84it/s]\n"
     ]
    }
   ],
   "source": [
    "img_list=[]\n",
    "cnt=0\n",
    "for infile in tq(glob.glob(\"crop_part1/*.jpg\")):\n",
    "    parent, file = infile.split(\"/\")\n",
    "    age=file.split(\"_\")[0]\n",
    "    age=int(age)\n",
    "    age=(f\"{age:03d}\")\n",
    "    im = Image.open(infile)    \n",
    "    if os.path.isdir('face_age/'+age) is False:\n",
    "        os.makedirs('face_age/'+age)\n",
    "    im.save('face_age/'+age+\"/\"+str(cnt)+\".png\")\n",
    "    cnt+=1"
   ]
  },
  {
   "cell_type": "code",
   "execution_count": 64,
   "metadata": {},
   "outputs": [
    {
     "data": {
      "text/plain": [
       "'00'"
      ]
     },
     "execution_count": 64,
     "metadata": {},
     "output_type": "execute_result"
    }
   ],
   "source": [
    "age=(f\"{0:02d}\")\n",
    "s"
   ]
  },
  {
   "cell_type": "code",
   "execution_count": 65,
   "metadata": {},
   "outputs": [],
   "source": [
    "# im=Image.open(\"wiki_crop/00/23300_1962-06-19_2011.jpg\")\n",
    "# import numpy as np\n",
    "# r=np.array(im)\n",
    "# r.shape\n",
    "\n",
    "# s='wiki_crop/08/1140408_1916-08-25_1972.jpg'\n",
    "# s,_=s.split(\".\")\n",
    "# bir,cur=re.split('/|_',s)[4:6]\n",
    "# bir,_,__=bir.split(\"-\")\n",
    "# age=int(cur)-int(bir)\n",
    "# print(age)\n",
    "# os.makedirs('images/'+str(age))\n",
    "\n",
    "# try:\n",
    "#     os.makedirs('images/1')\n",
    "# except:\n",
    "#     None"
   ]
  },
  {
   "cell_type": "code",
   "execution_count": null,
   "metadata": {},
   "outputs": [],
   "source": []
  }
 ],
 "metadata": {
  "kernelspec": {
   "display_name": "Python 3",
   "language": "python",
   "name": "python3"
  },
  "language_info": {
   "codemirror_mode": {
    "name": "ipython",
    "version": 3
   },
   "file_extension": ".py",
   "mimetype": "text/x-python",
   "name": "python",
   "nbconvert_exporter": "python",
   "pygments_lexer": "ipython3",
   "version": "3.6.7"
  }
 },
 "nbformat": 4,
 "nbformat_minor": 2
}
