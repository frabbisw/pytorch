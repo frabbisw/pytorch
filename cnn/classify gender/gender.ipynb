{
  "cells": [
    {
      "metadata": {
        "_uuid": "8f2839f25d086af736a60e9eeb907d3b93b6e0e5",
        "_cell_guid": "b1076dfc-b9ad-4769-8c92-a6c4dae69d19",
        "trusted": true
      },
      "cell_type": "code",
      "source": "import torch\nimport torchvision\nimport torchvision.transforms as transforms\nimport torch.nn as nn\nimport torch.nn.functional as F",
      "execution_count": null,
      "outputs": []
    },
    {
      "metadata": {
        "trusted": true,
        "_uuid": "7b28c33ce76f58f90e96121db561255c29c40ca3"
      },
      "cell_type": "code",
      "source": "from matplotlib import pyplot as plt\nimport numpy as np",
      "execution_count": null,
      "outputs": []
    },
    {
      "metadata": {
        "_cell_guid": "79c7e3d0-c299-4dcb-8224-4455121ee9b0",
        "_uuid": "d629ff2d2480ee46fbb7e2d37f6b5fab8052498a",
        "trusted": true
      },
      "cell_type": "code",
      "source": "transform = transforms.Compose(\n    [transforms.Resize((32,32)),\n     transforms.ToTensor(),\n     transforms.Normalize((0.5, 0.5, 0.5), (0.5, 0.5, 0.5))])",
      "execution_count": null,
      "outputs": []
    },
    {
      "metadata": {
        "trusted": true,
        "_uuid": "88ac98da83d99ce966e652ea64ee7dfa772e5f40"
      },
      "cell_type": "code",
      "source": "trainset=torchvision.datasets.ImageFolder(\"../input/dataset1/dataset1/train/\",transform=transform,)\ntrainloader=torch.utils.data.DataLoader(trainset,batch_size=4,shuffle=True,num_workers=2)\n\ntestset=torchvision.datasets.ImageFolder(\"../input/dataset1/dataset1/test/\",transform=transform,)\ntestloader=torch.utils.data.DataLoader(trainset,batch_size=4,shuffle=True,num_workers=2)",
      "execution_count": null,
      "outputs": []
    },
    {
      "metadata": {
        "trusted": true,
        "_uuid": "ff72a62b2c307ecc70eef52c793201c702976157"
      },
      "cell_type": "code",
      "source": "def imshow(img):\n    img = img / 2 + 0.5     # unnormalize\n    npimg = img.numpy()\n    plt.imshow(np.transpose(npimg, (1, 2, 0)))\n    plt.show()",
      "execution_count": null,
      "outputs": []
    },
    {
      "metadata": {
        "trusted": true,
        "_uuid": "24668803069fe3145f0a12021bbf50a01f1e9cf0"
      },
      "cell_type": "code",
      "source": "class Model(nn.Module):\n    def __init__(self):\n        super(Model, self).__init__()\n        self.conv1 = nn.Conv2d(3, 6, 5)\n        self.pool = nn.MaxPool2d(2, 2)\n        self.conv2 = nn.Conv2d(6, 16, 5)\n        self.fc1 = nn.Linear(16 * 5 * 5, 120)\n        self.fc2 = nn.Linear(120, 84)\n        self.fc3 = nn.Linear(84, 2)\n\n    def forward(self, x):\n        x = self.pool(F.relu(self.conv1(x)))\n        x = self.pool(F.relu(self.conv2(x)))\n        x = x.view(-1, 16 * 5 * 5)\n        x = F.relu(self.fc1(x))\n        x = F.relu(self.fc2(x))\n        x = self.fc3(x)\n        return x",
      "execution_count": null,
      "outputs": []
    },
    {
      "metadata": {
        "trusted": true,
        "_uuid": "d7fce60ec0e6c75d4ab0520c995848b25032d46c"
      },
      "cell_type": "code",
      "source": "model=Model().cuda()\ncriterion=nn.CrossEntropyLoss()\noptim=torch.optim.Adam(model.parameters(),lr=.001)",
      "execution_count": null,
      "outputs": []
    },
    {
      "metadata": {
        "trusted": true,
        "_uuid": "23e924652fa9c17a421a007d2adcad212afc2607"
      },
      "cell_type": "code",
      "source": "for i in range(100000):\n    trainiter = iter(trainloader)\n    x, y = trainiter.next()\n    x=x.cuda()\n    y=y.cuda()\n    z=model(x)\n\n    loss=criterion(z,y)\n    optim.zero_grad()\n    loss.backward()\n    optim.step()\n\n    if i % 10000 == 0:\n        print(loss)",
      "execution_count": null,
      "outputs": []
    },
    {
      "metadata": {
        "trusted": true,
        "_uuid": "de8f0c36036b9f44642532a1fab91e99c91bbc9e"
      },
      "cell_type": "code",
      "source": "dataiter = iter(testloader)\nimages, labels = dataiter.next()\n",
      "execution_count": null,
      "outputs": []
    },
    {
      "metadata": {
        "trusted": true,
        "_uuid": "fec6256c631a6858f6a60caed95b5d9113e55b64"
      },
      "cell_type": "code",
      "source": "dataiter = iter(testloader)\nimages, labels = dataiter.next()\nclasses=('Man','Woman')\n# print images\nimshow(torchvision.utils.make_grid(images))\n\nimages=images.cuda()\npreds=model(images)\n_,indices=preds.max(1)\npreds=indices.tolist()\n\nprint('Real: ', ' '.join('%5s' % classes[labels[j]] for j in range(4)))\nprint('Pred: ', ' '.join('%5s' % classes[preds[j]] for j in range(4)))",
      "execution_count": null,
      "outputs": []
    },
    {
      "metadata": {
        "trusted": true,
        "_uuid": "4b7303aa8f533b518d103f83057b091947e60cfc"
      },
      "cell_type": "code",
      "source": "",
      "execution_count": null,
      "outputs": []
    },
    {
      "metadata": {
        "trusted": true,
        "_uuid": "c6e2b3284bab26a3269bde275d085bd5e8b63e61"
      },
      "cell_type": "code",
      "source": "",
      "execution_count": null,
      "outputs": []
    }
  ],
  "metadata": {
    "kernelspec": {
      "display_name": "Python 3",
      "language": "python",
      "name": "python3"
    },
    "language_info": {
      "name": "python",
      "version": "3.6.6",
      "mimetype": "text/x-python",
      "codemirror_mode": {
        "name": "ipython",
        "version": 3
      },
      "pygments_lexer": "ipython3",
      "nbconvert_exporter": "python",
      "file_extension": ".py"
    }
  },
  "nbformat": 4,
  "nbformat_minor": 1
}