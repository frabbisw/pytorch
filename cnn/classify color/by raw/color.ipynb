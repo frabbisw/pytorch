{
  "cells": [
    {
      "metadata": {
        "_uuid": "8f2839f25d086af736a60e9eeb907d3b93b6e0e5",
        "_cell_guid": "b1076dfc-b9ad-4769-8c92-a6c4dae69d19",
        "trusted": true
      },
      "cell_type": "code",
      "source": "import torch\nimport torch.nn as nn\nimport torchvision.transforms as transforms\nimport torch.nn.functional as F",
      "execution_count": null,
      "outputs": []
    },
    {
      "metadata": {
        "_cell_guid": "79c7e3d0-c299-4dcb-8224-4455121ee9b0",
        "_uuid": "d629ff2d2480ee46fbb7e2d37f6b5fab8052498a",
        "trusted": true
      },
      "cell_type": "code",
      "source": "from PIL import Image, ImageDraw",
      "execution_count": null,
      "outputs": []
    },
    {
      "metadata": {
        "trusted": true,
        "_uuid": "155771a4d32121259eaab926d8e95d6f0f599468"
      },
      "cell_type": "code",
      "source": "tenpil = transforms.ToPILImage()\npilten = transforms.ToTensor()",
      "execution_count": null,
      "outputs": []
    },
    {
      "metadata": {
        "trusted": true,
        "_uuid": "575451f17a33d267a046a2c463f31da83efe37f7"
      },
      "cell_type": "code",
      "source": "x1=pilten(Image.new(\"RGB\", (32,32), color='red'))\nx2=pilten(Image.new(\"RGB\", (32,32), color='blue'))\nx3=pilten(Image.new(\"RGB\", (32,32), color='green'))\nx1=x1.reshape((1,3,32,32))\nx2=x2.reshape((1,3,32,32))\nx3=x3.reshape((1,3,32,32))",
      "execution_count": null,
      "outputs": []
    },
    {
      "metadata": {
        "trusted": true,
        "_uuid": "575451f17a33d267a046a2c463f31da83efe37f7"
      },
      "cell_type": "code",
      "source": "x=torch.cat((x1,x2,x3)).cuda()\ny=torch.tensor([0,1,2]).cuda()",
      "execution_count": null,
      "outputs": []
    },
    {
      "metadata": {
        "trusted": true,
        "_uuid": "1a4b0fedd97e4af572801b07ed6f2786039cc0f6",
        "scrolled": true
      },
      "cell_type": "code",
      "source": "x.shape,y.shape",
      "execution_count": null,
      "outputs": []
    },
    {
      "metadata": {
        "trusted": true,
        "_uuid": "627907399864b111943c84e729db0e36056cdcc8"
      },
      "cell_type": "code",
      "source": "class Net(nn.Module):\n    def __init__(self):\n        super(Net, self).__init__()\n        self.conv1 = nn.Conv2d(3, 6, 5)\n        self.pool = nn.MaxPool2d(2, 2)\n        self.conv2 = nn.Conv2d(6, 16, 5)\n        self.fc1 = nn.Linear(16 * 5 * 5, 120)\n        self.fc2 = nn.Linear(120, 84)\n        self.fc3 = nn.Linear(84, 3)\n\n    def forward(self, x):\n        x = self.pool(F.relu(self.conv1(x)))\n        x = self.pool(F.relu(self.conv2(x)))\n        x = x.view(-1, 16 * 5 * 5)\n        x = F.relu(self.fc1(x))\n        x = F.relu(self.fc2(x))\n        x = self.fc3(x)\n        return x",
      "execution_count": null,
      "outputs": []
    },
    {
      "metadata": {
        "trusted": true,
        "_uuid": "a772db19f24de01465355057abbe84943952e2ec"
      },
      "cell_type": "code",
      "source": "model = Net().cuda()\ncriterion = nn.CrossEntropyLoss()\noptim=torch.optim.SGD(model.parameters(),.03)",
      "execution_count": null,
      "outputs": []
    },
    {
      "metadata": {
        "trusted": true,
        "_uuid": "df9ce4d62d7dc2d6e9838db3ea46d26b60ee785d"
      },
      "cell_type": "code",
      "source": "for i in range(1000):\n    z=model(x)\n    loss=criterion(z,y)\n    optim.zero_grad()\n    loss.backward()\n    optim.step()\n    \n    if i % 100 == 0:\n        print(loss)",
      "execution_count": null,
      "outputs": []
    },
    {
      "metadata": {
        "trusted": true,
        "_uuid": "207fa4ddf4a532332c56f6b59581619ea46fbc33"
      },
      "cell_type": "code",
      "source": "z=model(x)\nvalues, indices = z.max(0)\nprint(indices.tolist())",
      "execution_count": null,
      "outputs": []
    },
    {
      "metadata": {
        "trusted": true,
        "_uuid": "9d4214383a7a4185c85f372b5924739a7e25f407"
      },
      "cell_type": "code",
      "source": "x1=pilten(Image.new(\"RGB\", (32,32), color='red'))\nx2=pilten(Image.new(\"RGB\", (32,32), color='blue'))\nx1=x1.reshape((1,3,32,32))\nx2=x2.reshape((1,3,32,32))\nx=torch.cat((x2,x1)).cuda()\nx.shape",
      "execution_count": null,
      "outputs": []
    },
    {
      "metadata": {
        "trusted": true,
        "_uuid": "db61c56176feae2dc69ca3e5ddd8594f9b433fcb"
      },
      "cell_type": "code",
      "source": "z=model(x)\nvalues, indices = z.max(1)\nprint(indices.tolist())\nprint(z)",
      "execution_count": null,
      "outputs": []
    },
    {
      "metadata": {
        "trusted": true,
        "_uuid": "abbce29e17cb097f343d9bfe0cbf8722a97ddeb4"
      },
      "cell_type": "code",
      "source": "",
      "execution_count": null,
      "outputs": []
    }
  ],
  "metadata": {
    "kernelspec": {
      "display_name": "Python 3",
      "language": "python",
      "name": "python3"
    },
    "language_info": {
      "name": "python",
      "version": "3.6.6",
      "mimetype": "text/x-python",
      "codemirror_mode": {
        "name": "ipython",
        "version": 3
      },
      "pygments_lexer": "ipython3",
      "nbconvert_exporter": "python",
      "file_extension": ".py"
    }
  },
  "nbformat": 4,
  "nbformat_minor": 1
}