{
 "cells": [
  {
   "cell_type": "code",
   "execution_count": 1,
   "metadata": {
    "execution": {
     "iopub.execute_input": "2021-02-13T20:25:16.883261Z",
     "iopub.status.busy": "2021-02-13T20:25:16.882527Z",
     "iopub.status.idle": "2021-02-13T20:25:18.612651Z",
     "shell.execute_reply": "2021-02-13T20:25:18.613266Z"
    },
    "papermill": {
     "duration": 1.745778,
     "end_time": "2021-02-13T20:25:18.613632",
     "exception": false,
     "start_time": "2021-02-13T20:25:16.867854",
     "status": "completed"
    },
    "tags": []
   },
   "outputs": [],
   "source": [
    "import random\n",
    "\n",
    "from tqdm import tqdm as tq\n",
    "import numpy as np\n",
    "import torch\n",
    "import torch.nn as nn\n",
    "from torch import optim\n",
    "import torch.nn.functional as F\n",
    " \n",
    "device = torch.device(\"cuda\" if torch.cuda.is_available() else \"cpu\")"
   ]
  },
  {
   "cell_type": "code",
   "execution_count": 2,
   "metadata": {
    "execution": {
     "iopub.execute_input": "2021-02-13T20:25:18.636227Z",
     "iopub.status.busy": "2021-02-13T20:25:18.635481Z",
     "iopub.status.idle": "2021-02-13T20:25:18.638203Z",
     "shell.execute_reply": "2021-02-13T20:25:18.637775Z"
    },
    "papermill": {
     "duration": 0.015813,
     "end_time": "2021-02-13T20:25:18.638314",
     "exception": false,
     "start_time": "2021-02-13T20:25:18.622501",
     "status": "completed"
    },
    "tags": []
   },
   "outputs": [],
   "source": [
    "def get_sample():\n",
    "    start = random.randint(0,100)\n",
    "    nos = 100\n",
    "    step = .05\n",
    "    samples = torch.arange(start=start, end=start+nos*step, step=step, device=device)\n",
    "    sins = torch.sin(samples)\n",
    "    \n",
    "    X = sins[:50]\n",
    "    Y = sins[50:]\n",
    "    \n",
    "    return X.view(-1,1,1,1),Y"
   ]
  },
  {
   "cell_type": "code",
   "execution_count": 3,
   "metadata": {
    "execution": {
     "iopub.execute_input": "2021-02-13T20:25:18.660366Z",
     "iopub.status.busy": "2021-02-13T20:25:18.659735Z",
     "iopub.status.idle": "2021-02-13T20:25:18.662197Z",
     "shell.execute_reply": "2021-02-13T20:25:18.662559Z"
    },
    "papermill": {
     "duration": 0.01664,
     "end_time": "2021-02-13T20:25:18.662688",
     "exception": false,
     "start_time": "2021-02-13T20:25:18.646048",
     "status": "completed"
    },
    "tags": []
   },
   "outputs": [],
   "source": [
    "class SineEncoder(nn.Module):\n",
    "    def __init__(self, input_size, hidden_size):\n",
    "        super(SineEncoder, self).__init__()\n",
    "        self.input_size=input_size\n",
    "        self.hidden_size=hidden_size\n",
    "        self.lstm = nn.LSTM(input_size=input_size,\n",
    "                    hidden_size=hidden_size,\n",
    "                    num_layers=1,\n",
    "                    batch_first=False,\n",
    "                    bidirectional=False)\n",
    "        \n",
    "    def init_hidden(self):\n",
    "        return (torch.zeros(1, 1, self.hidden_size, device=device), \n",
    "                torch.zeros(1, 1, self.hidden_size, device=device))\n",
    "        \n",
    "    def forward(self, input_tensor, hidden_tensor):\n",
    "        output_tensor, hidden_tensor = self.lstm(input_tensor, hidden_tensor)\n",
    "        return hidden_tensor"
   ]
  },
  {
   "cell_type": "code",
   "execution_count": 4,
   "metadata": {
    "execution": {
     "iopub.execute_input": "2021-02-13T20:25:18.684488Z",
     "iopub.status.busy": "2021-02-13T20:25:18.683907Z",
     "iopub.status.idle": "2021-02-13T20:25:18.686333Z",
     "shell.execute_reply": "2021-02-13T20:25:18.686799Z"
    },
    "papermill": {
     "duration": 0.016582,
     "end_time": "2021-02-13T20:25:18.686913",
     "exception": false,
     "start_time": "2021-02-13T20:25:18.670331",
     "status": "completed"
    },
    "tags": []
   },
   "outputs": [],
   "source": [
    "class SineDecoder(nn.Module):\n",
    "    def __init__(self, input_size, hidden_size, output_size):\n",
    "        super(SineDecoder, self).__init__()\n",
    "        self.input_size=input_size\n",
    "        self.hidden_size=hidden_size\n",
    "        self.output_size=output_size\n",
    "        self.lstm = nn.LSTM(input_size=input_size,\n",
    "                    hidden_size=hidden_size,\n",
    "                    num_layers=1,\n",
    "                    batch_first=False,\n",
    "                    bidirectional=False)\n",
    "        self.linear = nn.Linear(hidden_size, output_size)\n",
    "        \n",
    "    def forward(self, input_tensor, hidden_tensor):\n",
    "        output_tensor, hidden_tensor = self.lstm(input_tensor, hidden_tensor)\n",
    "        output_tensor = self.linear(output_tensor)\n",
    "        output_tensor = torch.tanh(output_tensor)\n",
    "        return output_tensor, hidden_tensor"
   ]
  },
  {
   "cell_type": "code",
   "execution_count": 5,
   "metadata": {
    "execution": {
     "iopub.execute_input": "2021-02-13T20:25:18.706181Z",
     "iopub.status.busy": "2021-02-13T20:25:18.705667Z",
     "iopub.status.idle": "2021-02-13T20:25:23.238717Z",
     "shell.execute_reply": "2021-02-13T20:25:23.237443Z"
    },
    "papermill": {
     "duration": 4.543849,
     "end_time": "2021-02-13T20:25:23.238854",
     "exception": false,
     "start_time": "2021-02-13T20:25:18.695005",
     "status": "completed"
    },
    "tags": []
   },
   "outputs": [],
   "source": [
    "encoder = SineEncoder(1, 128).to(device)\n",
    "decoder = SineDecoder(1, 128, 1).to(device)"
   ]
  },
  {
   "cell_type": "code",
   "execution_count": 6,
   "metadata": {
    "execution": {
     "iopub.execute_input": "2021-02-13T20:25:23.261398Z",
     "iopub.status.busy": "2021-02-13T20:25:23.259503Z",
     "iopub.status.idle": "2021-02-13T20:25:23.261989Z",
     "shell.execute_reply": "2021-02-13T20:25:23.262391Z"
    },
    "papermill": {
     "duration": 0.015323,
     "end_time": "2021-02-13T20:25:23.262515",
     "exception": false,
     "start_time": "2021-02-13T20:25:23.247192",
     "status": "completed"
    },
    "tags": []
   },
   "outputs": [],
   "source": [
    "optim_encoder = torch.optim.SGD(encoder.parameters(), lr=.005)\n",
    "optim_decoder = torch.optim.SGD(decoder.parameters(), lr=.005)"
   ]
  },
  {
   "cell_type": "code",
   "execution_count": 7,
   "metadata": {
    "execution": {
     "iopub.execute_input": "2021-02-13T20:25:23.281765Z",
     "iopub.status.busy": "2021-02-13T20:25:23.281289Z",
     "iopub.status.idle": "2021-02-13T20:25:23.285141Z",
     "shell.execute_reply": "2021-02-13T20:25:23.284720Z"
    },
    "papermill": {
     "duration": 0.014758,
     "end_time": "2021-02-13T20:25:23.285246",
     "exception": false,
     "start_time": "2021-02-13T20:25:23.270488",
     "status": "completed"
    },
    "tags": []
   },
   "outputs": [],
   "source": [
    "# def set_lr(opt, lr):\n",
    "#     for p in opt.param_groups:\n",
    "#         p['lr'] = lr\n",
    "# set_lr(optim_encoder, .001)\n",
    "# set_lr(optim_decoder, .001)"
   ]
  },
  {
   "cell_type": "code",
   "execution_count": 8,
   "metadata": {
    "execution": {
     "iopub.execute_input": "2021-02-13T20:25:23.309436Z",
     "iopub.status.busy": "2021-02-13T20:25:23.308886Z",
     "iopub.status.idle": "2021-02-13T20:25:23.312586Z",
     "shell.execute_reply": "2021-02-13T20:25:23.312030Z"
    },
    "papermill": {
     "duration": 0.019181,
     "end_time": "2021-02-13T20:25:23.312708",
     "exception": false,
     "start_time": "2021-02-13T20:25:23.293527",
     "status": "completed"
    },
    "tags": []
   },
   "outputs": [],
   "source": [
    "def train(n):\n",
    "    losses = 0\n",
    "    kks = 0\n",
    "    for itr in range(1, n+1):\n",
    "        X,Y = get_sample()\n",
    "        hidden_tensor = encoder.init_hidden()\n",
    "\n",
    "        for x in X:\n",
    "            hidden_tensor = encoder.forward(x, hidden_tensor)\n",
    "\n",
    "        output_tensor = X[-1]\n",
    "        loss = 0\n",
    "        kk = 0\n",
    "        for i in range(Y.shape[0]):\n",
    "            output_tensor, hidden_tensor = decoder.forward(output_tensor, hidden_tensor)\n",
    "            loss += (output_tensor.view(-1)[0] - Y[i]) ** 2\n",
    "            kk += torch.abs(output_tensor.view(-1)[0] - Y[i]).item()\n",
    "\n",
    "        losses += loss.item()\n",
    "        kks += kk\n",
    "        \n",
    "        optim_encoder.zero_grad()\n",
    "        optim_decoder.zero_grad()\n",
    "\n",
    "        loss.backward()\n",
    "\n",
    "        optim_encoder.step()\n",
    "        optim_decoder.step()\n",
    "        \n",
    "        if itr % (n/25) == 0:\n",
    "            print(100*itr/n, losses/itr, kks/itr)"
   ]
  },
  {
   "cell_type": "code",
   "execution_count": 9,
   "metadata": {
    "execution": {
     "iopub.execute_input": "2021-02-13T20:25:23.333253Z",
     "iopub.status.busy": "2021-02-13T20:25:23.332556Z",
     "iopub.status.idle": "2021-02-14T05:02:48.667499Z",
     "shell.execute_reply": "2021-02-14T05:02:48.667908Z"
    },
    "papermill": {
     "duration": 31045.346642,
     "end_time": "2021-02-14T05:02:48.668113",
     "exception": false,
     "start_time": "2021-02-13T20:25:23.321471",
     "status": "completed"
    },
    "tags": []
   },
   "outputs": [
    {
     "name": "stdout",
     "output_type": "stream",
     "text": [
      "4.0 5.843283358820525 8.694241497620396\n",
      "8.0 2.929315435873912 4.65844215982731\n",
      "12.0 1.9558709118421806 3.265450138480567\n",
      "16.0 1.4685231856227274 2.5492392896043503\n",
      "20.0 1.1757191536575382 2.1083688572443005\n",
      "24.0 0.9804737159302446 1.8104333394659538\n",
      "28.0 0.8409505330405012 1.5926638717879225\n",
      "32.0 0.7361425199270911 1.4251363012052798\n",
      "36.0 0.654581680380998 1.293130293218847\n",
      "40.0 0.5893225116049766 1.1865797109831995\n",
      "44.0 0.5359234580871958 1.0989155403677486\n",
      "48.0 0.49141410475061253 1.0250526325290006\n",
      "52.0 0.45371241130125894 0.9606056301825058\n",
      "56.0 0.42140259056607043 0.9054154879331768\n",
      "60.0 0.39339053772887517 0.8569704708742769\n",
      "64.0 0.36887031913348467 0.8138685544220865\n",
      "68.0 0.34724033849783925 0.7758951682566407\n",
      "72.0 0.3280021112671306 0.7415126340516702\n",
      "76.0 0.3107936759662068 0.7107517669124146\n",
      "80.0 0.2952947163799454 0.6825189985696388\n",
      "84.0 0.28127232184505324 0.6568662611291404\n",
      "88.0 0.2685219941328346 0.6334197276459242\n",
      "92.0 0.2568775852627975 0.611658374201275\n",
      "96.0 0.24620375149526627 0.5915782447519139\n",
      "100.0 0.23638473307751984 0.5732247565957858\n"
     ]
    }
   ],
   "source": [
    "train(400000)"
   ]
  },
  {
   "cell_type": "code",
   "execution_count": 10,
   "metadata": {
    "execution": {
     "iopub.execute_input": "2021-02-14T05:02:48.705542Z",
     "iopub.status.busy": "2021-02-14T05:02:48.704858Z",
     "iopub.status.idle": "2021-02-14T05:02:48.708546Z",
     "shell.execute_reply": "2021-02-14T05:02:48.708952Z"
    },
    "papermill": {
     "duration": 0.026293,
     "end_time": "2021-02-14T05:02:48.709099",
     "exception": false,
     "start_time": "2021-02-14T05:02:48.682806",
     "status": "completed"
    },
    "tags": []
   },
   "outputs": [
    {
     "data": {
      "text/plain": [
       "SineDecoder(\n",
       "  (lstm): LSTM(1, 128)\n",
       "  (linear): Linear(in_features=128, out_features=1, bias=True)\n",
       ")"
      ]
     },
     "execution_count": 10,
     "metadata": {},
     "output_type": "execute_result"
    }
   ],
   "source": [
    "encoder.eval()\n",
    "decoder.eval()"
   ]
  },
  {
   "cell_type": "code",
   "execution_count": 11,
   "metadata": {
    "execution": {
     "iopub.execute_input": "2021-02-14T05:02:48.745313Z",
     "iopub.status.busy": "2021-02-14T05:02:48.744655Z",
     "iopub.status.idle": "2021-02-14T05:02:48.748454Z",
     "shell.execute_reply": "2021-02-14T05:02:48.748013Z"
    },
    "papermill": {
     "duration": 0.024509,
     "end_time": "2021-02-14T05:02:48.748572",
     "exception": false,
     "start_time": "2021-02-14T05:02:48.724063",
     "status": "completed"
    },
    "tags": []
   },
   "outputs": [],
   "source": [
    "def test():\n",
    "    X,Y = get_sample()\n",
    "    hidden_tensor = encoder.init_hidden()\n",
    "\n",
    "    for x in X:\n",
    "        hidden_tensor = encoder.forward(x, hidden_tensor)\n",
    "    \n",
    "    kk = 0\n",
    "    Y_pred = []\n",
    "    output_tensor = X[-1]\n",
    "    for i in range(Y.shape[0]):\n",
    "        output_tensor, hidden_tensor = decoder.forward(output_tensor, hidden_tensor)\n",
    "        Y_pred.append(output_tensor.view(-1)[0].item())\n",
    "        \n",
    "    print(Y.cpu().detach().numpy())\n",
    "    print(np.array(Y_pred))\n",
    "    print(kk)"
   ]
  },
  {
   "cell_type": "code",
   "execution_count": 12,
   "metadata": {
    "execution": {
     "iopub.execute_input": "2021-02-14T05:02:48.782246Z",
     "iopub.status.busy": "2021-02-14T05:02:48.781698Z",
     "iopub.status.idle": "2021-02-14T05:02:48.827762Z",
     "shell.execute_reply": "2021-02-14T05:02:48.826926Z"
    },
    "papermill": {
     "duration": 0.064365,
     "end_time": "2021-02-14T05:02:48.827889",
     "exception": false,
     "start_time": "2021-02-14T05:02:48.763524",
     "status": "completed"
    },
    "tags": []
   },
   "outputs": [
    {
     "name": "stdout",
     "output_type": "stream",
     "text": [
      "[ 0.9284657   0.90874255  0.886748    0.86253524  0.83616847  0.80771166\n",
      "  0.77723616  0.744818    0.71053547  0.67447966  0.636738    0.5974049\n",
      "  0.55657864  0.51435804  0.47085497  0.42617506  0.38042995  0.33373404\n",
      "  0.28620028  0.23795484  0.18911463  0.13980174  0.09013943  0.04024802\n",
      " -0.00974019 -0.05970405 -0.10951869 -0.1590596  -0.20820668 -0.25682962\n",
      " -0.30481064 -0.3520298  -0.39836907 -0.4437161  -0.48795062 -0.53096557\n",
      " -0.57265335 -0.6129099  -0.65163743 -0.6887332  -0.7241076  -0.7576722\n",
      " -0.789343   -0.8190431  -0.84669375 -0.87222815 -0.8955825  -0.91669846\n",
      " -0.9355246  -0.9520109 ]\n",
      "[ 0.93916261  0.90958005  0.88029206  0.85978246  0.83635867  0.80938393\n",
      "  0.77901059  0.7460829   0.711923    0.67550194  0.63681686  0.59741062\n",
      "  0.55722725  0.51589042  0.4732514   0.4292033   0.38374555  0.33701351\n",
      "  0.28922302  0.24061649  0.19142976  0.14188443  0.09216898  0.04241822\n",
      " -0.0073105  -0.05702263 -0.10674248 -0.15643345 -0.20594265 -0.25500301\n",
      " -0.3033092  -0.35061246 -0.3967818  -0.44180742 -0.4857575  -0.5287149\n",
      " -0.57070136 -0.61159956 -0.65106505 -0.68848646 -0.72331685 -0.75619662\n",
      " -0.78849345 -0.81847918 -0.84580302 -0.87228322 -0.89668423 -0.91756868\n",
      " -0.93511993 -0.95102453]\n",
      "0\n"
     ]
    }
   ],
   "source": [
    "test()"
   ]
  },
  {
   "cell_type": "code",
   "execution_count": 13,
   "metadata": {
    "execution": {
     "iopub.execute_input": "2021-02-14T05:02:48.872022Z",
     "iopub.status.busy": "2021-02-14T05:02:48.870603Z",
     "iopub.status.idle": "2021-02-14T05:02:48.875103Z",
     "shell.execute_reply": "2021-02-14T05:02:48.874589Z"
    },
    "papermill": {
     "duration": 0.031784,
     "end_time": "2021-02-14T05:02:48.875235",
     "exception": false,
     "start_time": "2021-02-14T05:02:48.843451",
     "status": "completed"
    },
    "tags": []
   },
   "outputs": [],
   "source": [
    "checkpoint = {'optim_encoder' : optim_encoder, 'optim_decoder' : optim_decoder, 'encoder_state_dict': encoder.state_dict(),  'decoder_state_dict': decoder.state_dict()}\n",
    "torch.save(checkpoint, \"checkpoint.pth\")\n",
    "\n",
    "text_file = open(\"hudai.txt\", \"w\")\n",
    "text_file.write('hehe')\n",
    "text_file.close()"
   ]
  },
  {
   "cell_type": "code",
   "execution_count": null,
   "metadata": {
    "papermill": {
     "duration": 0.015562,
     "end_time": "2021-02-14T05:02:48.906927",
     "exception": false,
     "start_time": "2021-02-14T05:02:48.891365",
     "status": "completed"
    },
    "tags": []
   },
   "outputs": [],
   "source": []
  }
 ],
 "metadata": {
  "kernelspec": {
   "display_name": "Python 3",
   "language": "python",
   "name": "python3"
  },
  "language_info": {
   "codemirror_mode": {
    "name": "ipython",
    "version": 3
   },
   "file_extension": ".py",
   "mimetype": "text/x-python",
   "name": "python",
   "nbconvert_exporter": "python",
   "pygments_lexer": "ipython3",
   "version": "3.7.9"
  },
  "papermill": {
   "default_parameters": {},
   "duration": 31058.025946,
   "end_time": "2021-02-14T05:02:50.033730",
   "environment_variables": {},
   "exception": null,
   "input_path": "__notebook__.ipynb",
   "output_path": "__notebook__.ipynb",
   "parameters": {},
   "start_time": "2021-02-13T20:25:12.007784",
   "version": "2.2.2"
  }
 },
 "nbformat": 4,
 "nbformat_minor": 4
}
