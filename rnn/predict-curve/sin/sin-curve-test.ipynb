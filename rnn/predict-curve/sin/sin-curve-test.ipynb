{
 "cells": [
  {
   "cell_type": "markdown",
   "metadata": {
    "papermill": {
     "duration": 0.007711,
     "end_time": "2021-02-16T14:07:54.331903",
     "exception": false,
     "start_time": "2021-02-16T14:07:54.324192",
     "status": "completed"
    },
    "tags": []
   },
   "source": [
    "# SIN CURVE PREDICTION"
   ]
  },
  {
   "cell_type": "code",
   "execution_count": 1,
   "metadata": {
    "execution": {
     "iopub.execute_input": "2021-02-16T14:07:54.351781Z",
     "iopub.status.busy": "2021-02-16T14:07:54.351100Z",
     "iopub.status.idle": "2021-02-16T14:07:56.219968Z",
     "shell.execute_reply": "2021-02-16T14:07:56.219410Z"
    },
    "papermill": {
     "duration": 1.881339,
     "end_time": "2021-02-16T14:07:56.220160",
     "exception": false,
     "start_time": "2021-02-16T14:07:54.338821",
     "status": "completed"
    },
    "tags": []
   },
   "outputs": [],
   "source": [
    "import random\n",
    "\n",
    "from tqdm import tqdm as tq\n",
    "import numpy as np\n",
    "import torch\n",
    "import torch.nn as nn\n",
    "from torch import optim\n",
    "import torch.nn.functional as F\n",
    "import matplotlib.pyplot as plt\n",
    "import math\n",
    "\n",
    "device = torch.device(\"cuda\" if torch.cuda.is_available() else \"cpu\")"
   ]
  },
  {
   "cell_type": "code",
   "execution_count": 2,
   "metadata": {
    "execution": {
     "iopub.execute_input": "2021-02-16T14:07:56.241225Z",
     "iopub.status.busy": "2021-02-16T14:07:56.240696Z",
     "iopub.status.idle": "2021-02-16T14:07:56.244539Z",
     "shell.execute_reply": "2021-02-16T14:07:56.244114Z"
    },
    "papermill": {
     "duration": 0.016514,
     "end_time": "2021-02-16T14:07:56.244648",
     "exception": false,
     "start_time": "2021-02-16T14:07:56.228134",
     "status": "completed"
    },
    "tags": []
   },
   "outputs": [],
   "source": [
    "class SineEncoder(nn.Module):\n",
    "    def __init__(self, input_size, hidden_size):\n",
    "        super(SineEncoder, self).__init__()\n",
    "        self.input_size=input_size\n",
    "        self.hidden_size=hidden_size\n",
    "        self.lstm = nn.LSTM(input_size=input_size,\n",
    "                    hidden_size=hidden_size,\n",
    "                    num_layers=1,\n",
    "                    batch_first=False,\n",
    "                    bidirectional=False)\n",
    "        \n",
    "    def init_hidden(self):\n",
    "        return (torch.zeros(1, 1, self.hidden_size, device=device), \n",
    "                torch.zeros(1, 1, self.hidden_size, device=device))\n",
    "        \n",
    "    def forward(self, input_tensor, hidden_tensor):\n",
    "        output_tensor, hidden_tensor = self.lstm(input_tensor, hidden_tensor)\n",
    "        return hidden_tensor"
   ]
  },
  {
   "cell_type": "code",
   "execution_count": 3,
   "metadata": {
    "execution": {
     "iopub.execute_input": "2021-02-16T14:07:56.264044Z",
     "iopub.status.busy": "2021-02-16T14:07:56.263408Z",
     "iopub.status.idle": "2021-02-16T14:07:56.266393Z",
     "shell.execute_reply": "2021-02-16T14:07:56.265970Z"
    },
    "papermill": {
     "duration": 0.015122,
     "end_time": "2021-02-16T14:07:56.266504",
     "exception": false,
     "start_time": "2021-02-16T14:07:56.251382",
     "status": "completed"
    },
    "tags": []
   },
   "outputs": [],
   "source": [
    "class SineDecoder(nn.Module):\n",
    "    def __init__(self, input_size, hidden_size, output_size):\n",
    "        super(SineDecoder, self).__init__()\n",
    "        self.input_size=input_size\n",
    "        self.hidden_size=hidden_size\n",
    "        self.output_size=output_size\n",
    "        self.lstm = nn.LSTM(input_size=input_size,\n",
    "                    hidden_size=hidden_size,\n",
    "                    num_layers=1,\n",
    "                    batch_first=False,\n",
    "                    bidirectional=False)\n",
    "        self.linear = nn.Linear(hidden_size, output_size)\n",
    "        \n",
    "    def forward(self, input_tensor, hidden_tensor):\n",
    "        output_tensor, hidden_tensor = self.lstm(input_tensor, hidden_tensor)\n",
    "        output_tensor = self.linear(output_tensor)\n",
    "        output_tensor = torch.tanh(output_tensor)\n",
    "        return output_tensor, hidden_tensor"
   ]
  },
  {
   "cell_type": "code",
   "execution_count": 4,
   "metadata": {
    "execution": {
     "iopub.execute_input": "2021-02-16T14:07:56.283071Z",
     "iopub.status.busy": "2021-02-16T14:07:56.282589Z",
     "iopub.status.idle": "2021-02-16T14:08:00.916796Z",
     "shell.execute_reply": "2021-02-16T14:08:00.916141Z"
    },
    "papermill": {
     "duration": 4.643795,
     "end_time": "2021-02-16T14:08:00.916934",
     "exception": false,
     "start_time": "2021-02-16T14:07:56.273139",
     "status": "completed"
    },
    "tags": []
   },
   "outputs": [],
   "source": [
    "checkpoint = torch.load(\"/kaggle/input/sin-curve-train/checkpoint.pth\")"
   ]
  },
  {
   "cell_type": "code",
   "execution_count": 5,
   "metadata": {
    "execution": {
     "iopub.execute_input": "2021-02-16T14:08:00.936529Z",
     "iopub.status.busy": "2021-02-16T14:08:00.935905Z",
     "iopub.status.idle": "2021-02-16T14:08:01.552906Z",
     "shell.execute_reply": "2021-02-16T14:08:01.553358Z"
    },
    "papermill": {
     "duration": 0.629365,
     "end_time": "2021-02-16T14:08:01.553699",
     "exception": false,
     "start_time": "2021-02-16T14:08:00.924334",
     "status": "completed"
    },
    "tags": []
   },
   "outputs": [
    {
     "data": {
      "text/plain": [
       "SineDecoder(\n",
       "  (lstm): LSTM(1, 128)\n",
       "  (linear): Linear(in_features=128, out_features=1, bias=True)\n",
       ")"
      ]
     },
     "execution_count": 5,
     "metadata": {},
     "output_type": "execute_result"
    }
   ],
   "source": [
    "encoder = SineEncoder(1, 128).to(device)\n",
    "decoder = SineDecoder(1, 128, 1).to(device)\n",
    "\n",
    "encoder.load_state_dict(checkpoint['encoder_state_dict'])\n",
    "decoder.load_state_dict(checkpoint['decoder_state_dict'])\n",
    "\n",
    "optim_encoder = checkpoint['optim_encoder']\n",
    "optim_decoder = checkpoint['optim_decoder']\n",
    "\n",
    "encoder.eval()\n",
    "decoder.eval()"
   ]
  },
  {
   "cell_type": "code",
   "execution_count": 6,
   "metadata": {
    "execution": {
     "iopub.execute_input": "2021-02-16T14:08:01.575540Z",
     "iopub.status.busy": "2021-02-16T14:08:01.574843Z",
     "iopub.status.idle": "2021-02-16T14:08:01.577824Z",
     "shell.execute_reply": "2021-02-16T14:08:01.577411Z"
    },
    "papermill": {
     "duration": 0.015924,
     "end_time": "2021-02-16T14:08:01.577939",
     "exception": false,
     "start_time": "2021-02-16T14:08:01.562015",
     "status": "completed"
    },
    "tags": []
   },
   "outputs": [],
   "source": [
    "def get_sample(nos, div):\n",
    "    start = random.randint(0,100)\n",
    "    step = .05\n",
    "    ticks = torch.arange(start=start, end=start+nos*step, step=step, device=device)\n",
    "    sins = torch.sin(ticks)\n",
    "    \n",
    "    X = sins[:div]\n",
    "    Y = sins[div:]\n",
    "    \n",
    "    return X.view(-1,1,1,1),Y,ticks.view(-1)"
   ]
  },
  {
   "cell_type": "code",
   "execution_count": 7,
   "metadata": {
    "execution": {
     "iopub.execute_input": "2021-02-16T14:08:01.602205Z",
     "iopub.status.busy": "2021-02-16T14:08:01.601489Z",
     "iopub.status.idle": "2021-02-16T14:08:01.604387Z",
     "shell.execute_reply": "2021-02-16T14:08:01.603975Z"
    },
    "papermill": {
     "duration": 0.018613,
     "end_time": "2021-02-16T14:08:01.604518",
     "exception": false,
     "start_time": "2021-02-16T14:08:01.585905",
     "status": "completed"
    },
    "tags": []
   },
   "outputs": [],
   "source": [
    "def sample_result(nos, ratio):\n",
    "    div = int(nos * max(.1, min(.9, ratio)))\n",
    "#     print(div)\n",
    "#     div = 25\n",
    "    X,Y,ticks = get_sample(nos, div)\n",
    "    hidden_tensor = encoder.init_hidden()\n",
    "\n",
    "    for x in X:\n",
    "        hidden_tensor = encoder.forward(x, hidden_tensor)\n",
    "    \n",
    "    kk = 0\n",
    "    Y_pred = []\n",
    "    output_tensor = X[-1]\n",
    "    for i in range(Y.shape[0]):\n",
    "        output_tensor, hidden_tensor = decoder.forward(output_tensor, hidden_tensor)\n",
    "        Y_pred.append(output_tensor.view(-1)[0].item())\n",
    "        \n",
    "    y_ticks_first = X.view(-1).cpu().detach().numpy()\n",
    "    y_ticks_next = Y.cpu().detach().numpy()\n",
    "    y_ticks_pred = np.array(Y_pred)\n",
    "    xticks = 180 / math.pi * ticks.cpu().detach().numpy()\n",
    "    \n",
    "    plt.scatter(xticks[:div],y_ticks_first)\n",
    "#     plt.scatter(xticks[div:],y_ticks_next)\n",
    "    plt.scatter(xticks[div:],y_ticks_pred)\n",
    "    plt.show()"
   ]
  },
  {
   "cell_type": "code",
   "execution_count": 8,
   "metadata": {
    "execution": {
     "iopub.execute_input": "2021-02-16T14:08:01.624073Z",
     "iopub.status.busy": "2021-02-16T14:08:01.623568Z",
     "iopub.status.idle": "2021-02-16T14:08:01.881866Z",
     "shell.execute_reply": "2021-02-16T14:08:01.881390Z"
    },
    "papermill": {
     "duration": 0.26954,
     "end_time": "2021-02-16T14:08:01.881989",
     "exception": false,
     "start_time": "2021-02-16T14:08:01.612449",
     "status": "completed"
    },
    "tags": []
   },
   "outputs": [
    {
     "data": {
      "image/png": "[encoded data removed]",
      "text/plain": [
       "<Figure size 432x288 with 1 Axes>"
      ]
     },
     "metadata": {
      "needs_background": "light"
     },
     "output_type": "display_data"
    }
   ],
   "source": [
    "sample_result(100, .5)"
   ]
  },
  {
   "cell_type": "code",
   "execution_count": 9,
   "metadata": {
    "execution": {
     "iopub.execute_input": "2021-02-16T14:08:01.903419Z",
     "iopub.status.busy": "2021-02-16T14:08:01.902570Z",
     "iopub.status.idle": "2021-02-16T14:08:02.104780Z",
     "shell.execute_reply": "2021-02-16T14:08:02.104325Z"
    },
    "papermill": {
     "duration": 0.21411,
     "end_time": "2021-02-16T14:08:02.104902",
     "exception": false,
     "start_time": "2021-02-16T14:08:01.890792",
     "status": "completed"
    },
    "tags": []
   },
   "outputs": [
    {
     "data": {
      "image/png": "[encoded data removed]",
      "text/plain": [
       "<Figure size 432x288 with 1 Axes>"
      ]
     },
     "metadata": {
      "needs_background": "light"
     },
     "output_type": "display_data"
    }
   ],
   "source": [
    "sample_result(200, .5)"
   ]
  },
  {
   "cell_type": "code",
   "execution_count": 10,
   "metadata": {
    "execution": {
     "iopub.execute_input": "2021-02-16T14:08:02.126880Z",
     "iopub.status.busy": "2021-02-16T14:08:02.126352Z",
     "iopub.status.idle": "2021-02-16T14:08:02.337925Z",
     "shell.execute_reply": "2021-02-16T14:08:02.336984Z"
    },
    "papermill": {
     "duration": 0.224099,
     "end_time": "2021-02-16T14:08:02.338053",
     "exception": false,
     "start_time": "2021-02-16T14:08:02.113954",
     "status": "completed"
    },
    "tags": []
   },
   "outputs": [
    {
     "data": {
      "image/png": "[encoded data removed]",
      "text/plain": [
       "<Figure size 432x288 with 1 Axes>"
      ]
     },
     "metadata": {
      "needs_background": "light"
     },
     "output_type": "display_data"
    }
   ],
   "source": [
    "sample_result(200, .25)"
   ]
  },
  {
   "cell_type": "code",
   "execution_count": null,
   "metadata": {
    "papermill": {
     "duration": 0.00949,
     "end_time": "2021-02-16T14:08:02.357457",
     "exception": false,
     "start_time": "2021-02-16T14:08:02.347967",
     "status": "completed"
    },
    "tags": []
   },
   "outputs": [],
   "source": []
  }
 ],
 "metadata": {
  "kernelspec": {
   "display_name": "Python 3",
   "language": "python",
   "name": "python3"
  },
  "language_info": {
   "codemirror_mode": {
    "name": "ipython",
    "version": 3
   },
   "file_extension": ".py",
   "mimetype": "text/x-python",
   "name": "python",
   "nbconvert_exporter": "python",
   "pygments_lexer": "ipython3",
   "version": "3.7.9"
  },
  "papermill": {
   "default_parameters": {},
   "duration": 14.738332,
   "end_time": "2021-02-16T14:08:04.018385",
   "environment_variables": {},
   "exception": null,
   "input_path": "__notebook__.ipynb",
   "output_path": "__notebook__.ipynb",
   "parameters": {},
   "start_time": "2021-02-16T14:07:49.280053",
   "version": "2.2.2"
  }
 },
 "nbformat": 4,
 "nbformat_minor": 4
}
