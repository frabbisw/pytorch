{
  "cells": [
    {
      "metadata": {
        "_cell_guid": "79c7e3d0-c299-4dcb-8224-4455121ee9b0",
        "_uuid": "d629ff2d2480ee46fbb7e2d37f6b5fab8052498a",
        "trusted": true
      },
      "cell_type": "code",
      "source": "import torch\nimport torch.nn as nn\nimport numpy as np",
      "execution_count": 141,
      "outputs": []
    },
    {
      "metadata": {
        "trusted": true,
        "_uuid": "8473f052643acdad2989dca6d04d50c888187f74"
      },
      "cell_type": "code",
      "source": "def sample(n):\n    #x=np.array([[5.,3.1],[2.,1.2],[3.,4.3],[4.,2.4],[1.,5.5],],dtype='float32')\n    #np.random.seed(420)\n    x=np.random.uniform(0,5,2*n).reshape(n,2).astype('float32')\n    y=3.1*x[:,0]-2.5*x[:,1]+.4\n    y=y.reshape((n,1))\n    \n    x=torch.from_numpy(x).cuda()\n    y=torch.from_numpy(y).cuda()\n    \n    return x,y",
      "execution_count": 142,
      "outputs": []
    },
    {
      "metadata": {
        "trusted": true,
        "_uuid": "25917c2959515abce1b63cd3869c394332513b54"
      },
      "cell_type": "code",
      "source": "#y",
      "execution_count": 143,
      "outputs": []
    },
    {
      "metadata": {
        "trusted": true,
        "_uuid": "ae0c8a165f05052f41fbed17e29f2adc6a23cd6c"
      },
      "cell_type": "code",
      "source": "x,y=sample(10)",
      "execution_count": 144,
      "outputs": []
    },
    {
      "metadata": {
        "trusted": true,
        "_uuid": "acfa72af7c928c7b01b20bc35c7db0d89a6ff476"
      },
      "cell_type": "code",
      "source": "model=nn.Linear(2,1).cuda()\noptim=torch.optim.Adam(model.parameters(),.01)\nloss_fn = torch.nn.MSELoss()",
      "execution_count": 145,
      "outputs": []
    },
    {
      "metadata": {
        "trusted": true,
        "_uuid": "c2cf9221b2ccf9f7e32e275571da66d79ad3ed02"
      },
      "cell_type": "code",
      "source": "for i in range(1000):\n    x,y=sample(1000)\n    y_pred=model(x)\n    loss=loss_fn(y_pred,y)\n    optim.zero_grad()\n    loss.backward()\n    optim.step()\n    \n    if i % 100 == 0:\n        print(loss)",
      "execution_count": null,
      "outputs": [
        {
          "output_type": "stream",
          "text": "tensor(36.5774, device='cuda:0', grad_fn=<MseLossBackward>)\ntensor(15.7654, device='cuda:0', grad_fn=<MseLossBackward>)\ntensor(6.0695, device='cuda:0', grad_fn=<MseLossBackward>)\ntensor(2.2537, device='cuda:0', grad_fn=<MseLossBackward>)\ntensor(0.9247, device='cuda:0', grad_fn=<MseLossBackward>)\ntensor(0.5297, device='cuda:0', grad_fn=<MseLossBackward>)\n",
          "name": "stdout"
        }
      ]
    },
    {
      "metadata": {
        "trusted": true,
        "_uuid": "4d96c86f4d9a6701098cfb3ccdde783112c67bab"
      },
      "cell_type": "code",
      "source": "",
      "execution_count": null,
      "outputs": []
    }
  ],
  "metadata": {
    "kernelspec": {
      "display_name": "Python 3",
      "language": "python",
      "name": "python3"
    },
    "language_info": {
      "name": "python",
      "version": "3.6.6",
      "mimetype": "text/x-python",
      "codemirror_mode": {
        "name": "ipython",
        "version": 3
      },
      "pygments_lexer": "ipython3",
      "nbconvert_exporter": "python",
      "file_extension": ".py"
    }
  },
  "nbformat": 4,
  "nbformat_minor": 1
}