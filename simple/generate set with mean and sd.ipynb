{
  "cells": [
    {
      "metadata": {
        "_uuid": "8f2839f25d086af736a60e9eeb907d3b93b6e0e5",
        "_cell_guid": "b1076dfc-b9ad-4769-8c92-a6c4dae69d19",
        "trusted": true
      },
      "cell_type": "code",
      "source": "import torch",
      "execution_count": 1,
      "outputs": []
    },
    {
      "metadata": {
        "_cell_guid": "79c7e3d0-c299-4dcb-8224-4455121ee9b0",
        "_uuid": "d629ff2d2480ee46fbb7e2d37f6b5fab8052498a",
        "trusted": true
      },
      "cell_type": "code",
      "source": "x=torch.rand(10,1, requires_grad=True)\ny1=torch.tensor([.2])\ny2=torch.tensor([1.0])",
      "execution_count": 2,
      "outputs": []
    },
    {
      "metadata": {
        "trusted": true,
        "_uuid": "3fae8cb5541a483ccacc0918a14e1ed5f497633d"
      },
      "cell_type": "code",
      "source": "lr=.1",
      "execution_count": 3,
      "outputs": []
    },
    {
      "metadata": {
        "trusted": true,
        "_uuid": "46aa55ae4a31c5ffaeeaad0f2bc153411bce3aa5"
      },
      "cell_type": "code",
      "source": "for i in range(1000):\n    z1=torch.mean(x)\n    z2=torch.std(x)\n    error1 = torch.mean((z1 - y1) ** 2)\n    error1.backward()\n    error2 = torch.mean((z2 - y2) ** 2)\n    error2.backward()\n    \n    if i%100 == 0:\n        print(error1,error2)\n    \n    with torch.no_grad():\n        x=x-x.grad*lr\n    x.requires_grad=True",
      "execution_count": 4,
      "outputs": [
        {
          "output_type": "stream",
          "text": "tensor(0.1162, grad_fn=<MeanBackward1>) tensor(0.4621, grad_fn=<MeanBackward1>)\ntensor(0.0020, grad_fn=<MeanBackward1>) tensor(0.0052, grad_fn=<MeanBackward1>)\ntensor(3.5934e-05, grad_fn=<MeanBackward1>) tensor(5.7646e-05, grad_fn=<MeanBackward1>)\ntensor(6.3206e-07, grad_fn=<MeanBackward1>) tensor(6.4394e-07, grad_fn=<MeanBackward1>)\ntensor(1.1121e-08, grad_fn=<MeanBackward1>) tensor(7.1839e-09, grad_fn=<MeanBackward1>)\ntensor(1.9370e-10, grad_fn=<MeanBackward1>) tensor(8.1005e-11, grad_fn=<MeanBackward1>)\ntensor(4.1676e-12, grad_fn=<MeanBackward1>) tensor(2.8777e-13, grad_fn=<MeanBackward1>)\ntensor(5.7754e-13, grad_fn=<MeanBackward1>) tensor(8.8818e-14, grad_fn=<MeanBackward1>)\ntensor(5.7754e-13, grad_fn=<MeanBackward1>) tensor(8.8818e-14, grad_fn=<MeanBackward1>)\ntensor(5.7754e-13, grad_fn=<MeanBackward1>) tensor(8.8818e-14, grad_fn=<MeanBackward1>)\n",
          "name": "stdout"
        }
      ]
    },
    {
      "metadata": {
        "trusted": true,
        "_uuid": "7c34cceee7b134ca8b560c4e434e801093da028d"
      },
      "cell_type": "code",
      "source": "print(torch.mean(x), torch.std(x))",
      "execution_count": 5,
      "outputs": [
        {
          "output_type": "stream",
          "text": "tensor(0.2000, grad_fn=<MeanBackward1>) tensor(1.0000, grad_fn=<StdBackward0>)\n",
          "name": "stdout"
        }
      ]
    }
  ],
  "metadata": {
    "kernelspec": {
      "display_name": "Python 3",
      "language": "python",
      "name": "python3"
    },
    "language_info": {
      "name": "python",
      "version": "3.6.6",
      "mimetype": "text/x-python",
      "codemirror_mode": {
        "name": "ipython",
        "version": 3
      },
      "pygments_lexer": "ipython3",
      "nbconvert_exporter": "python",
      "file_extension": ".py"
    }
  },
  "nbformat": 4,
  "nbformat_minor": 1
}