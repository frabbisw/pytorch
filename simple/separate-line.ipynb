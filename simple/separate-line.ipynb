{
  "cells": [
    {
      "metadata": {
        "_uuid": "8f2839f25d086af736a60e9eeb907d3b93b6e0e5",
        "_cell_guid": "b1076dfc-b9ad-4769-8c92-a6c4dae69d19",
        "trusted": true
      },
      "cell_type": "code",
      "source": "import numpy as np # linear algebra\nimport pandas as pd # data processing, CSV file I/O (e.g. pd.read_csv)",
      "execution_count": null,
      "outputs": []
    },
    {
      "metadata": {
        "_cell_guid": "79c7e3d0-c299-4dcb-8224-4455121ee9b0",
        "_uuid": "d629ff2d2480ee46fbb7e2d37f6b5fab8052498a",
        "trusted": true
      },
      "cell_type": "code",
      "source": "import torch\nimport torch.nn as nn\nimport torch.nn.functional as F",
      "execution_count": null,
      "outputs": []
    },
    {
      "metadata": {
        "trusted": true,
        "_uuid": "12d1c713466ef79bf9107dd8ab52cd395b76111a"
      },
      "cell_type": "code",
      "source": "from matplotlib import pyplot as plt",
      "execution_count": null,
      "outputs": []
    },
    {
      "metadata": {
        "trusted": true,
        "_uuid": "51cd49eb0cd1963b17e96ccc7624ab2c6ebcd9f3"
      },
      "cell_type": "code",
      "source": "def get_sample(n):\n    x=np.random.uniform(-5,5,n).reshape(n,1)\n    y=np.where(x<0,0,1)\n    return torch.from_numpy(x.astype('float32')).cuda(),torch.from_numpy(y.astype('float32')).cuda()",
      "execution_count": null,
      "outputs": []
    },
    {
      "metadata": {
        "trusted": true,
        "_uuid": "142a74e7a642488d468e6c2ea1b6205d0c30cb60"
      },
      "cell_type": "code",
      "source": "class Model(nn.Module):\n    def __init__(self,din,dout):\n        super(Model, self).__init__()\n        self.linear1=nn.Linear(din,dout)\n        self.sigmoid=nn.Sigmoid()\n    def forward(self, x):\n        y=self.sigmoid(self.linear1(x))\n        return y",
      "execution_count": null,
      "outputs": []
    },
    {
      "metadata": {
        "trusted": true,
        "_uuid": "093d8bab1da5686478f3c38b93f69eb3cecd84ce"
      },
      "cell_type": "code",
      "source": "model=Model(1,1).cuda()\noptim=torch.optim.SGD(model.parameters(),.03)",
      "execution_count": null,
      "outputs": []
    },
    {
      "metadata": {
        "trusted": true,
        "_uuid": "2124524eae353ef8ee9ecf9b3a2b659cdceaf01c"
      },
      "cell_type": "code",
      "source": "def train(n):\n    x,y=get_sample(n)\n    y_pred=model(x)\n    loss=F.mse_loss(y_pred,y)\n    optim.zero_grad()\n    loss.backward()\n    optim.step()\n    \n    return loss,y,y_pred",
      "execution_count": null,
      "outputs": []
    },
    {
      "metadata": {
        "trusted": true,
        "_uuid": "1efdb282377b8e03715928e363170c3a12dd9c60"
      },
      "cell_type": "code",
      "source": "def test(n):\n    x,y=get_sample(n)\n    y_pred=model(x)\n    plt.scatter(x.cpu().numpy(),y_pred.cpu().detach().numpy())\n    plt.show()",
      "execution_count": null,
      "outputs": []
    },
    {
      "metadata": {
        "trusted": true,
        "_uuid": "f406f835d5945b4289ac1be101bbf5e0ddacbc1e"
      },
      "cell_type": "code",
      "source": "test(1000)",
      "execution_count": null,
      "outputs": []
    },
    {
      "metadata": {
        "trusted": true,
        "_uuid": "97e086fe19e721c8dfe7f833ec605445fc121146"
      },
      "cell_type": "code",
      "source": "for i in range(10000):\n    loss,y,y_pred=train(10000)\n    if i % 500 == 0:\n        print(loss)\n    if i % 1000 == 0:\n        test(1000)",
      "execution_count": null,
      "outputs": []
    },
    {
      "metadata": {
        "trusted": true,
        "_uuid": "77548f2534556525f0a8825a3c622258df464b8f"
      },
      "cell_type": "code",
      "source": "",
      "execution_count": null,
      "outputs": []
    },
    {
      "metadata": {
        "trusted": true,
        "_uuid": "8984ad175503f279c83f548cff16ff8c0b9faceb"
      },
      "cell_type": "code",
      "source": "",
      "execution_count": null,
      "outputs": []
    }
  ],
  "metadata": {
    "kernelspec": {
      "display_name": "Python 3",
      "language": "python",
      "name": "python3"
    },
    "language_info": {
      "name": "python",
      "version": "3.6.6",
      "mimetype": "text/x-python",
      "codemirror_mode": {
        "name": "ipython",
        "version": 3
      },
      "pygments_lexer": "ipython3",
      "nbconvert_exporter": "python",
      "file_extension": ".py"
    }
  },
  "nbformat": 4,
  "nbformat_minor": 1
}