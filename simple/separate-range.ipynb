{
  "cells": [
    {
      "metadata": {
        "_uuid": "8f2839f25d086af736a60e9eeb907d3b93b6e0e5",
        "_cell_guid": "b1076dfc-b9ad-4769-8c92-a6c4dae69d19",
        "trusted": true
      },
      "cell_type": "code",
      "source": "import numpy as np # linear algebra\nimport pandas as pd # data processing, CSV file I/O (e.g. pd.read_csv)",
      "execution_count": 10,
      "outputs": []
    },
    {
      "metadata": {
        "_cell_guid": "79c7e3d0-c299-4dcb-8224-4455121ee9b0",
        "_uuid": "d629ff2d2480ee46fbb7e2d37f6b5fab8052498a",
        "trusted": true
      },
      "cell_type": "code",
      "source": "import torch\nimport torch.nn as nn\nimport torch.nn.functional as F",
      "execution_count": 11,
      "outputs": []
    },
    {
      "metadata": {
        "trusted": true,
        "_uuid": "12d1c713466ef79bf9107dd8ab52cd395b76111a"
      },
      "cell_type": "code",
      "source": "from matplotlib import pyplot as plt",
      "execution_count": 12,
      "outputs": []
    },
    {
      "metadata": {
        "trusted": true,
        "_uuid": "51cd49eb0cd1963b17e96ccc7624ab2c6ebcd9f3"
      },
      "cell_type": "code",
      "source": "def get_sample(n):\n    x=np.random.uniform(-5,5,n).reshape(n,1)\n    y=np.where((x<2.5) & (x>-2.5),1,0)\n    return torch.from_numpy(x.astype('float32')).cuda(),torch.from_numpy(y.astype('float32')).cuda()",
      "execution_count": 13,
      "outputs": []
    },
    {
      "metadata": {
        "trusted": true,
        "_uuid": "142a74e7a642488d468e6c2ea1b6205d0c30cb60"
      },
      "cell_type": "code",
      "source": "class Model(nn.Module):\n    def __init__(self,din,dout):\n        super(Model, self).__init__()\n        self.linear1=nn.Linear(din,3)\n        self.linear2=nn.Linear(3,dout)\n        self.sigmoid=nn.Sigmoid()\n        self.tanh=nn.Tanh()\n    def forward(self, x):\n        #y=self.sigmoid(self.linear2(self.linear1(x)))\n        y=self.linear1(x)\n        y=self.tanh(y)\n        y=self.linear2(y)\n        y=self.sigmoid(y)\n        return y",
      "execution_count": 14,
      "outputs": []
    },
    {
      "metadata": {
        "trusted": true,
        "_uuid": "093d8bab1da5686478f3c38b93f69eb3cecd84ce"
      },
      "cell_type": "code",
      "source": "model=Model(1,1).cuda()\noptim=torch.optim.SGD(model.parameters(),.01)",
      "execution_count": 15,
      "outputs": []
    },
    {
      "metadata": {
        "trusted": true,
        "_uuid": "2124524eae353ef8ee9ecf9b3a2b659cdceaf01c"
      },
      "cell_type": "code",
      "source": "def train(n):\n    x,y=get_sample(n)\n    y_pred=model(x)\n    loss=F.mse_loss(y_pred,y)\n    optim.zero_grad()\n    loss.backward()\n    optim.step()\n    \n    return loss,y,y_pred",
      "execution_count": 16,
      "outputs": []
    },
    {
      "metadata": {
        "trusted": true,
        "_uuid": "1efdb282377b8e03715928e363170c3a12dd9c60"
      },
      "cell_type": "code",
      "source": "def test(n):\n    x,y=get_sample(n)\n    y_pred=model(x)\n    plt.scatter(x.cpu().numpy(),y_pred.cpu().detach().numpy())\n    plt.show()",
      "execution_count": 17,
      "outputs": []
    },
    {
      "metadata": {
        "trusted": true,
        "_uuid": "97e086fe19e721c8dfe7f833ec605445fc121146"
      },
      "cell_type": "code",
      "source": "for i in range(50000):\n    loss,y,y_pred=train(10000)\n    if i % 5000 == 0:\n        print(loss)\n    if i % 10000 == 0:\n        test(1000)",
      "execution_count": null,
      "outputs": [
        {
          "output_type": "stream",
          "text": "tensor(0.2496, device='cuda:0', grad_fn=<MseLossBackward>)\n",
          "name": "stdout"
        },
        {
          "output_type": "display_data",
          "data": {
            "text/plain": "<Figure size 432x288 with 1 Axes>",
            "image/png": "[encoded data removed]"
          },
          "metadata": {}
        }
      ]
    },
    {
      "metadata": {
        "trusted": true,
        "_uuid": "111636efd6497ebad46d6b11818b355304a827fc"
      },
      "cell_type": "code",
      "source": "",
      "execution_count": null,
      "outputs": []
    }
  ],
  "metadata": {
    "kernelspec": {
      "display_name": "Python 3",
      "language": "python",
      "name": "python3"
    },
    "language_info": {
      "name": "python",
      "version": "3.6.6",
      "mimetype": "text/x-python",
      "codemirror_mode": {
        "name": "ipython",
        "version": 3
      },
      "pygments_lexer": "ipython3",
      "nbconvert_exporter": "python",
      "file_extension": ".py"
    }
  },
  "nbformat": 4,
  "nbformat_minor": 1
}