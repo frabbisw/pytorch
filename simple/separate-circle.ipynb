{
  "cells": [
    {
      "metadata": {
        "_uuid": "8f2839f25d086af736a60e9eeb907d3b93b6e0e5",
        "_cell_guid": "b1076dfc-b9ad-4769-8c92-a6c4dae69d19",
        "trusted": true
      },
      "cell_type": "code",
      "source": "import torch\nimport torch.nn as nn\nimport torch.nn.functional as F\nfrom torch.optim.adam import Adam\nfrom torch.nn.modules import Linear\nfrom torch.nn.modules import Sequential",
      "execution_count": null,
      "outputs": []
    },
    {
      "metadata": {
        "trusted": true,
        "_uuid": "a93d2d0c0b18b07be1fdd9f2ab3d2bc16fd79bfe"
      },
      "cell_type": "code",
      "source": "from random import uniform as rf\nimport math\nimport numpy as np",
      "execution_count": null,
      "outputs": []
    },
    {
      "metadata": {
        "trusted": true,
        "_uuid": "7ba1da89a5b85da780ec0c1700f41bdbdcb9b23c"
      },
      "cell_type": "code",
      "source": "from matplotlib import pyplot as plt\nfrom mpl_toolkits.mplot3d import Axes3D",
      "execution_count": null,
      "outputs": []
    },
    {
      "metadata": {
        "_cell_guid": "79c7e3d0-c299-4dcb-8224-4455121ee9b0",
        "_uuid": "d629ff2d2480ee46fbb7e2d37f6b5fab8052498a",
        "trusted": true
      },
      "cell_type": "code",
      "source": "def get_sample(n):\n    x=np.random.uniform(-1,1,n*2).reshape(n,2)\n    y=np.where(np.sqrt(np.sum(np.square(x),axis=1))<0.75,1,0).reshape(n,1)\n    #y=.5*np.sum(x,axis=1)\n    return torch.from_numpy(x.astype('float32')).cuda(),torch.from_numpy(y.astype('float32')).cuda()",
      "execution_count": null,
      "outputs": []
    },
    {
      "metadata": {
        "trusted": true,
        "_uuid": "1067b1ff80aed92bcd67edb6cb6ebd0e19922d29"
      },
      "cell_type": "code",
      "source": "class Model(nn.Module):\n    def __init__(self, din, hid, dout):\n        super(Model, self).__init__()\n        self.linear1=Linear(din,hid)\n        self.linear2=Linear(hid,dout)\n        self.tanh=nn.Tanh()\n        self.sigmoid=nn.Sigmoid()\n    def forward(self, x):\n        y=self.tanh(self.linear1(x))\n        y=self.sigmoid(self.linear2(y))\n        return y",
      "execution_count": null,
      "outputs": []
    },
    {
      "metadata": {
        "trusted": true,
        "_uuid": "7db129ac6f1e3c4ab12dbaf8451227b23bdc2846"
      },
      "cell_type": "code",
      "source": "model=Model(2,4,1).cuda()\noptim=Adam(model.parameters(),.01)",
      "execution_count": null,
      "outputs": []
    },
    {
      "metadata": {
        "trusted": true,
        "_uuid": "ed64f800bb93a2702db4a9a137b5222f916059ed"
      },
      "cell_type": "code",
      "source": "def train(n):\n    x,y=get_sample(n)\n    y_pred=model(x)\n    loss=F.mse_loss(y_pred,y)\n    optim.zero_grad()\n    loss.backward()\n    optim.step()\n    \n    return loss,y,y_pred",
      "execution_count": null,
      "outputs": []
    },
    {
      "metadata": {
        "trusted": true,
        "_uuid": "59d932b98de1264a497084b140a1da69598fb79b"
      },
      "cell_type": "code",
      "source": "for i in range(10000):\n    loss,y_real,y_pred=train(1000)\n    if i % 1000 == 0:\n        print(loss)",
      "execution_count": null,
      "outputs": []
    },
    {
      "metadata": {
        "trusted": true,
        "_uuid": "73d27a2b0db141252c57870664aa2eec81c250f0"
      },
      "cell_type": "code",
      "source": "x,y=get_sample(1000)\ny_pred=model(x)\n\nfig = plt.figure()\nax = Axes3D(fig)\n\nax.scatter(x.cpu().numpy()[:,0:1],x.cpu().numpy()[:,1:2],y.cpu().detach().numpy())\nplt.show()\n\nfig2 = plt.figure()\nax = Axes3D(fig2)\n\nax.scatter(x.cpu().numpy()[:,0:1],x.cpu().numpy()[:,1:2],y_pred.cpu().detach().numpy())\nplt.show()",
      "execution_count": null,
      "outputs": []
    },
    {
      "metadata": {
        "trusted": true,
        "_uuid": "6015131999814d94814b22fd61082121655956b8"
      },
      "cell_type": "code",
      "source": "",
      "execution_count": null,
      "outputs": []
    }
  ],
  "metadata": {
    "kernelspec": {
      "display_name": "Python 3",
      "language": "python",
      "name": "python3"
    },
    "language_info": {
      "name": "python",
      "version": "3.6.6",
      "mimetype": "text/x-python",
      "codemirror_mode": {
        "name": "ipython",
        "version": 3
      },
      "pygments_lexer": "ipython3",
      "nbconvert_exporter": "python",
      "file_extension": ".py"
    }
  },
  "nbformat": 4,
  "nbformat_minor": 1
}