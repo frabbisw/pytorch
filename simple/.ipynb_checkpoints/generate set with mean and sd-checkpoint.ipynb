{
 "cells": [
  {
   "cell_type": "code",
   "execution_count": 6,
   "metadata": {
    "_cell_guid": "b1076dfc-b9ad-4769-8c92-a6c4dae69d19",
    "_uuid": "8f2839f25d086af736a60e9eeb907d3b93b6e0e5"
   },
   "outputs": [],
   "source": [
    "import torch"
   ]
  },
  {
   "cell_type": "code",
   "execution_count": 7,
   "metadata": {
    "_cell_guid": "79c7e3d0-c299-4dcb-8224-4455121ee9b0",
    "_uuid": "d629ff2d2480ee46fbb7e2d37f6b5fab8052498a"
   },
   "outputs": [],
   "source": [
    "x=torch.rand(10,1, requires_grad=True)\n",
    "y1=torch.tensor([.2])\n",
    "y2=torch.tensor([1.0])"
   ]
  },
  {
   "cell_type": "code",
   "execution_count": 8,
   "metadata": {
    "_uuid": "3fae8cb5541a483ccacc0918a14e1ed5f497633d"
   },
   "outputs": [],
   "source": [
    "lr=.1"
   ]
  },
  {
   "cell_type": "code",
   "execution_count": 9,
   "metadata": {
    "_uuid": "46aa55ae4a31c5ffaeeaad0f2bc153411bce3aa5",
    "scrolled": true
   },
   "outputs": [
    {
     "name": "stdout",
     "output_type": "stream",
     "text": [
      "tensor(0.0294, grad_fn=<MeanBackward1>) tensor(0.6466, grad_fn=<MeanBackward1>)\n",
      "tensor(0.0005, grad_fn=<MeanBackward1>) tensor(0.0072, grad_fn=<MeanBackward1>)\n",
      "tensor(9.0831e-06, grad_fn=<MeanBackward1>) tensor(8.0667e-05, grad_fn=<MeanBackward1>)\n",
      "tensor(1.5974e-07, grad_fn=<MeanBackward1>) tensor(9.0099e-07, grad_fn=<MeanBackward1>)\n",
      "tensor(2.8062e-09, grad_fn=<MeanBackward1>) tensor(1.0051e-08, grad_fn=<MeanBackward1>)\n",
      "tensor(4.9468e-11, grad_fn=<MeanBackward1>) tensor(1.1256e-10, grad_fn=<MeanBackward1>)\n",
      "tensor(2.2737e-13, grad_fn=<MeanBackward1>) tensor(2.7853e-12, grad_fn=<MeanBackward1>)\n",
      "tensor(7.9936e-15, grad_fn=<MeanBackward1>) tensor(1.4211e-12, grad_fn=<MeanBackward1>)\n",
      "tensor(1.4211e-14, grad_fn=<MeanBackward1>) tensor(1.4211e-12, grad_fn=<MeanBackward1>)\n",
      "tensor(2.2204e-14, grad_fn=<MeanBackward1>) tensor(1.4211e-12, grad_fn=<MeanBackward1>)\n"
     ]
    }
   ],
   "source": [
    "for i in range(1000):\n",
    "    z1=torch.mean(x)\n",
    "    z2=torch.std(x)\n",
    "    error1 = torch.mean((z1 - y1) ** 2)\n",
    "    error1.backward()\n",
    "    error2 = torch.mean((z2 - y2) ** 2)\n",
    "    error2.backward()\n",
    "    \n",
    "    if i%100 == 0:\n",
    "        print(error1,error2)\n",
    "    \n",
    "    with torch.no_grad():\n",
    "        x=x-x.grad*lr\n",
    "    x.requires_grad=True"
   ]
  },
  {
   "cell_type": "code",
   "execution_count": 10,
   "metadata": {
    "_uuid": "7c34cceee7b134ca8b560c4e434e801093da028d"
   },
   "outputs": [
    {
     "name": "stdout",
     "output_type": "stream",
     "text": [
      "tensor(0.2000, grad_fn=<MeanBackward1>) tensor(1.0000, grad_fn=<StdBackward0>)\n"
     ]
    }
   ],
   "source": [
    "print(torch.mean(x), torch.std(x))"
   ]
  }
 ],
 "metadata": {
  "kernelspec": {
   "display_name": "Python 3",
   "language": "python",
   "name": "python3"
  },
  "language_info": {
   "codemirror_mode": {
    "name": "ipython",
    "version": 3
   },
   "file_extension": ".py",
   "mimetype": "text/x-python",
   "name": "python",
   "nbconvert_exporter": "python",
   "pygments_lexer": "ipython3",
   "version": "3.6.7"
  }
 },
 "nbformat": 4,
 "nbformat_minor": 1
}
