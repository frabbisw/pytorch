{
 "cells": [
  {
   "cell_type": "code",
   "execution_count": 147,
   "metadata": {
    "_cell_guid": "79c7e3d0-c299-4dcb-8224-4455121ee9b0",
    "_uuid": "d629ff2d2480ee46fbb7e2d37f6b5fab8052498a"
   },
   "outputs": [],
   "source": [
    "import torch\n",
    "import torch.nn as nn\n",
    "import numpy as np"
   ]
  },
  {
   "cell_type": "code",
   "execution_count": 148,
   "metadata": {
    "_uuid": "8473f052643acdad2989dca6d04d50c888187f74"
   },
   "outputs": [],
   "source": [
    "def sample(n):\n",
    "    #x=np.array([[5.,3.1],[2.,1.2],[3.,4.3],[4.,2.4],[1.,5.5],],dtype='float32')\n",
    "    #np.random.seed(420)\n",
    "    x=np.random.uniform(0,5,2*n).reshape(n,2).astype('float32')\n",
    "    y=3.1*x[:,0]-2.5*x[:,1]+.4\n",
    "    y=y.reshape((n,1))\n",
    "    \n",
    "    x=torch.from_numpy(x).cuda()\n",
    "    y=torch.from_numpy(y).cuda()\n",
    "    \n",
    "    return x,y"
   ]
  },
  {
   "cell_type": "code",
   "execution_count": 149,
   "metadata": {
    "_uuid": "25917c2959515abce1b63cd3869c394332513b54"
   },
   "outputs": [],
   "source": [
    "#y"
   ]
  },
  {
   "cell_type": "code",
   "execution_count": 150,
   "metadata": {
    "_uuid": "ae0c8a165f05052f41fbed17e29f2adc6a23cd6c"
   },
   "outputs": [],
   "source": [
    "x,y=sample(10)"
   ]
  },
  {
   "cell_type": "code",
   "execution_count": 151,
   "metadata": {
    "_uuid": "acfa72af7c928c7b01b20bc35c7db0d89a6ff476"
   },
   "outputs": [],
   "source": [
    "model=nn.Linear(2,1).cuda()\n",
    "optim=torch.optim.Adam(model.parameters(),.01)\n",
    "loss_fn = torch.nn.MSELoss()"
   ]
  },
  {
   "cell_type": "code",
   "execution_count": 152,
   "metadata": {
    "_uuid": "c2cf9221b2ccf9f7e32e275571da66d79ad3ed02"
   },
   "outputs": [
    {
     "name": "stdout",
     "output_type": "stream",
     "text": [
      "tensor(39.6376, device='cuda:0', grad_fn=<MseLossBackward>)\n",
      "tensor(18.2886, device='cuda:0', grad_fn=<MseLossBackward>)\n",
      "tensor(7.5261, device='cuda:0', grad_fn=<MseLossBackward>)\n",
      "tensor(2.9994, device='cuda:0', grad_fn=<MseLossBackward>)\n",
      "tensor(1.2588, device='cuda:0', grad_fn=<MseLossBackward>)\n",
      "tensor(0.6904, device='cuda:0', grad_fn=<MseLossBackward>)\n",
      "tensor(0.4165, device='cuda:0', grad_fn=<MseLossBackward>)\n",
      "tensor(0.2723, device='cuda:0', grad_fn=<MseLossBackward>)\n",
      "tensor(0.1693, device='cuda:0', grad_fn=<MseLossBackward>)\n",
      "tensor(0.1020, device='cuda:0', grad_fn=<MseLossBackward>)\n"
     ]
    }
   ],
   "source": [
    "for i in range(1000):\n",
    "    x,y=sample(1000)\n",
    "    y_pred=model(x)\n",
    "    loss=loss_fn(y_pred,y)\n",
    "    optim.zero_grad()\n",
    "    loss.backward()\n",
    "    optim.step()\n",
    "    \n",
    "    if i % 100 == 0:\n",
    "        print(loss)"
   ]
  }
 ],
 "metadata": {
  "kernelspec": {
   "display_name": "Python 3",
   "language": "python",
   "name": "python3"
  },
  "language_info": {
   "codemirror_mode": {
    "name": "ipython",
    "version": 3
   },
   "file_extension": ".py",
   "mimetype": "text/x-python",
   "name": "python",
   "nbconvert_exporter": "python",
   "pygments_lexer": "ipython3",
   "version": "3.6.7"
  }
 },
 "nbformat": 4,
 "nbformat_minor": 1
}
