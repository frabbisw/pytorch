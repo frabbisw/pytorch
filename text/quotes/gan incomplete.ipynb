{
 "cells": [
  {
   "cell_type": "code",
   "execution_count": 2,
   "metadata": {},
   "outputs": [],
   "source": [
    "import pandas as pd\n",
    "import unicodedata\n",
    "import string\n",
    "import re\n",
    "from tqdm import tqdm as tq\n",
    "import torch\n",
    "import torch.nn as nn\n",
    "import torchtext\n",
    "from torchtext.vocab import FastText\n",
    "\n",
    "device = torch.device(\"cuda\" if torch.cuda.is_available() else \"cpu\")"
   ]
  },
  {
   "cell_type": "code",
   "execution_count": 5,
   "metadata": {},
   "outputs": [],
   "source": [
    "MAX_LENGTH = 20\n",
    "MIN_LENGTH = 4\n",
    "EMBEDDING_SIZE = 50\n",
    "HIDDEN_SIZE = 50"
   ]
  },
  {
   "cell_type": "code",
   "execution_count": 6,
   "metadata": {},
   "outputs": [],
   "source": [
    "quotes_all = pd.read_csv(\"quotes_all.csv\", delimiter=\";\",header=None)\n",
    "# fast_text = torchtext.vocab.FastText(language='en',cache=\"C:\\\\Users\\\\User\\\\Desktop\\\\pytorch\\\\nlp\")\n",
    "glove = torchtext.vocab.GloVe(name='6B', dim=EMBEDDING_SIZE, cache=\"C:\\\\Users\\\\User\\\\Desktop\\\\pytorch\\\\nlp\")"
   ]
  },
  {
   "cell_type": "code",
   "execution_count": 7,
   "metadata": {},
   "outputs": [],
   "source": [
    "def parse_sentence(sen):\n",
    "    sen = sen.replace(\",\", \" , \").lower()\n",
    "    # specific\n",
    "    sen = re.sub(r\"won't\", \"will not\", sen)\n",
    "    sen = re.sub(r\"can\\'t\", \"can not\", sen)\n",
    "\n",
    "    # general\n",
    "    sen = re.sub(r\"n\\'t\", \" not\", sen)\n",
    "    sen = re.sub(r\"\\'re\", \" are\", sen)\n",
    "    sen = re.sub(r\"\\'s\", \" is\", sen)\n",
    "    sen = re.sub(r\"\\'d\", \" would\", sen)\n",
    "    sen = re.sub(r\"\\'ll\", \" will\", sen)\n",
    "    sen = re.sub(r\"\\'t\", \" not\", sen)\n",
    "    sen = re.sub(r\"\\'ve\", \" have\", sen)\n",
    "    sen = re.sub(r\"\\'m\", \" am\", sen)\n",
    "    \n",
    "    #stopwards\n",
    "    sen = sen.replace(\".\", \" . \")\n",
    "    sen = sen.replace(\"!\", \" ! \")\n",
    "    sen = sen.replace(\"?\", \" ? \")\n",
    "    sen = sen.replace(\"\\'\", \"\")\n",
    "    sen = sen.replace(\"-\", \" \")\n",
    "    sen = sen.replace(\"_\", \" \")\n",
    "    sen = sen.replace(\":\", \" \")\n",
    "    sen = sen.split()\n",
    "    if len(sen) > MAX_LENGTH or len(sen) < MIN_LENGTH:\n",
    "        return None\n",
    "    return sen"
   ]
  },
  {
   "cell_type": "code",
   "execution_count": 8,
   "metadata": {},
   "outputs": [
    {
     "name": "stderr",
     "output_type": "stream",
     "text": [
      "100%|█████████████████████████████████████████████████████████████████████████| 75966/75966 [00:01<00:00, 64780.26it/s]\n"
     ]
    }
   ],
   "source": [
    "quotes_parsed = []\n",
    "for i in tq(range(len(quotes_all))):\n",
    "    q = parse_sentence(quotes_all[0][i])\n",
    "    if q is not None:\n",
    "        quotes_parsed.append(q)"
   ]
  },
  {
   "cell_type": "code",
   "execution_count": 9,
   "metadata": {},
   "outputs": [],
   "source": [
    "# glove.get_vecs_by_tokens(quotes_parsed[0]).to(device)"
   ]
  },
  {
   "cell_type": "code",
   "execution_count": 10,
   "metadata": {},
   "outputs": [],
   "source": [
    "class Language():\n",
    "    def __init__(self):\n",
    "        self.index_to_word = {0 : \"<sos>\", 1: \"<eos>\"}\n",
    "        self.word_to_index = {\"<sos>\": 0, \"<eos>\": 1}\n",
    "        self.count = 2\n",
    "    def add_word(self, word):\n",
    "        if not self.word_to_index.__contains__(word):\n",
    "            self.word_to_index[word] = self.count\n",
    "            self.index_to_word[self.count] = word\n",
    "            self.count += 1\n",
    "    def add_sentence(self, sen):\n",
    "        for word in sen:\n",
    "            self.add_word(word)\n",
    "    def get_word(self, index):\n",
    "        return self.index_to_word[index]\n",
    "    def get_index(self, word):\n",
    "        return self.word_to_index[word]\n",
    "lang = Language()\n",
    "\n",
    "for quote in quotes_parsed:\n",
    "    lang.add_sentence(quote)\n",
    "\n",
    "VOCUB_SIZE = lang.count\n",
    "STOP_WORDS = [',', '.', '!', '?']"
   ]
  },
  {
   "cell_type": "code",
   "execution_count": 11,
   "metadata": {},
   "outputs": [
    {
     "data": {
      "text/plain": [
       "14693"
      ]
     },
     "execution_count": 11,
     "metadata": {},
     "output_type": "execute_result"
    }
   ],
   "source": [
    "VOCUB_SIZE"
   ]
  },
  {
   "cell_type": "code",
   "execution_count": null,
   "metadata": {},
   "outputs": [],
   "source": []
  },
  {
   "cell_type": "code",
   "execution_count": 12,
   "metadata": {},
   "outputs": [],
   "source": [
    "class Generator(nn.Module):\n",
    "    def __init__(self, input_size, hidden_size, output_size):\n",
    "        super(Generator, self).__init__()\n",
    "        self.input_size = input_size\n",
    "        self.hidden_size = hidden_size\n",
    "        self.output_size = output_size\n",
    "        self.lstm = nn.LSTM(input_size=input_size,\n",
    "                            hidden_size=hidden_size,\n",
    "                            num_layers=1,\n",
    "                            batch_first=False,\n",
    "                            bidirectional=False)\n",
    "        self.linear = nn.Linear(self.hidden_size, self.output_size)\n",
    "        self.lsm = nn.LogSoftmax(dim=1)\n",
    "    def forward(self, input_tensor, hidden_tensor):\n",
    "        output_tensor, hidden_tensor = self.lstm(input_tensor, hidden_tensor)\n",
    "        output_tensor = torch.tanh(self.linear(output_tensor.view(1,-1)))\n",
    "        return self.lsm(output_tensor), hidden_tensor\n",
    "    def init_hidden(self):\n",
    "        ##bi or single and batch, layer numbers, hidden size\n",
    "        return (torch.rand(1, 1, self.hidden_size, device=device), torch.rand(1, 1, self.hidden_size, device=device))"
   ]
  },
  {
   "cell_type": "code",
   "execution_count": 13,
   "metadata": {},
   "outputs": [],
   "source": [
    "generator = Generator(EMBEDDING_SIZE, HIDDEN_SIZE, VOCUB_SIZE).to(device)"
   ]
  },
  {
   "cell_type": "code",
   "execution_count": 15,
   "metadata": {},
   "outputs": [
    {
     "name": "stdout",
     "output_type": "stream",
     "text": [
      "['30', 'travelers', 'appreciates', 'affixed', 'calling', 'calling', 'calling', 'calling', 'calling', 'calling', 'calling', 'calling', 'calling', 'calling', 'calling', 'calling', 'calling', 'calling', 'calling', 'calling'] 20\n"
     ]
    }
   ],
   "source": [
    "hidden_vector = generator.init_hidden()\n",
    "words_p = []\n",
    "last_word = \"<sos>\"\n",
    "for i in range(MAX_LENGTH):\n",
    "    input_tensor = glove.__getitem__(last_word).to(device).view(1, 1, EMBEDDING_SIZE)\n",
    "    output_tensor, hidden_tensor = generator(input_tensor, hidden_vector)\n",
    "    _, predicted = torch.max(output_tensor.data, 1)\n",
    "    last_word = lang.get_word(predicted.item())\n",
    "    words_p.append(last_word)\n",
    "    if last_word in STOP_WORDS:\n",
    "        break\n",
    "print(words_p, len(words_p))"
   ]
  },
  {
   "cell_type": "code",
   "execution_count": 234,
   "metadata": {},
   "outputs": [
    {
     "data": {
      "text/plain": [
       "'3'"
      ]
     },
     "execution_count": 234,
     "metadata": {},
     "output_type": "execute_result"
    }
   ],
   "source": [
    "words_p = [\"1\", \"2\", \"3\"]\n",
    "words_p[-1]"
   ]
  },
  {
   "cell_type": "code",
   "execution_count": 86,
   "metadata": {},
   "outputs": [
    {
     "data": {
      "text/plain": [
       "['r', 's', 'd']"
      ]
     },
     "execution_count": 86,
     "metadata": {},
     "output_type": "execute_result"
    }
   ],
   "source": [
    "input_tensors = glove.get_vecs_by_tokens(quotes_parsed[0]).to(device).view(-1, 1, 1, HIDDEN_SIZE)"
   ]
  },
  {
   "cell_type": "code",
   "execution_count": 172,
   "metadata": {},
   "outputs": [
    {
     "data": {
      "text/plain": [
       "torch.Size([50])"
      ]
     },
     "execution_count": 172,
     "metadata": {},
     "output_type": "execute_result"
    }
   ],
   "source": [
    "glove.__getitem__(\"get\").shape"
   ]
  },
  {
   "cell_type": "code",
   "execution_count": 80,
   "metadata": {},
   "outputs": [
    {
     "data": {
      "text/plain": [
       "'drawstring'"
      ]
     },
     "execution_count": 80,
     "metadata": {},
     "output_type": "execute_result"
    }
   ],
   "source": [
    "glove.__dict__[\"itos\"][100078]"
   ]
  },
  {
   "cell_type": "code",
   "execution_count": 81,
   "metadata": {},
   "outputs": [],
   "source": [
    "dd = {0: \"ss\", 1: \"43\"}"
   ]
  },
  {
   "cell_type": "code",
   "execution_count": 84,
   "metadata": {},
   "outputs": [
    {
     "data": {
      "text/plain": [
       "False"
      ]
     },
     "execution_count": 84,
     "metadata": {},
     "output_type": "execute_result"
    }
   ],
   "source": [
    "dd.__contains__(2)"
   ]
  },
  {
   "cell_type": "code",
   "execution_count": null,
   "metadata": {},
   "outputs": [],
   "source": []
  }
 ],
 "metadata": {
  "kernelspec": {
   "display_name": "Python 3",
   "language": "python",
   "name": "python3"
  },
  "language_info": {
   "codemirror_mode": {
    "name": "ipython",
    "version": 3
   },
   "file_extension": ".py",
   "mimetype": "text/x-python",
   "name": "python",
   "nbconvert_exporter": "python",
   "pygments_lexer": "ipython3",
   "version": "3.8.5"
  }
 },
 "nbformat": 4,
 "nbformat_minor": 4
}
